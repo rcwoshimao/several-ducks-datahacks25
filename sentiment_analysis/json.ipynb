{
 "cells": [
  {
   "cell_type": "code",
   "execution_count": 1,
   "id": "5121ed5f",
   "metadata": {},
   "outputs": [],
   "source": [
    "import json"
   ]
  },
  {
   "cell_type": "code",
   "execution_count": 4,
   "id": "60acc7d2",
   "metadata": {},
   "outputs": [
    {
     "name": "stderr",
     "output_type": "stream",
     "text": [
      "'pwd' is not recognized as an internal or external command,\n",
      "operable program or batch file.\n"
     ]
    }
   ],
   "source": [
    "!pwd"
   ]
  },
  {
   "cell_type": "code",
   "execution_count": 5,
   "id": "fc8adaad",
   "metadata": {},
   "outputs": [
    {
     "data": {
      "text/plain": [
       "'c:\\\\Users\\\\erics\\\\OneDrive\\\\Desktop\\\\several-ducks-datahacks25\\\\sentiment_analysis'"
      ]
     },
     "execution_count": 5,
     "metadata": {},
     "output_type": "execute_result"
    }
   ],
   "source": [
    "%pwd"
   ]
  },
  {
   "cell_type": "code",
   "execution_count": 6,
   "id": "0f04dffb",
   "metadata": {},
   "outputs": [
    {
     "name": "stdout",
     "output_type": "stream",
     "text": [
      " Volume in drive C is OS\n",
      " Volume Serial Number is 8646-B61A\n",
      "\n",
      " Directory of c:\\Users\\erics\\OneDrive\\Desktop\\several-ducks-datahacks25\\sentiment_analysis\n",
      "\n",
      "04/05/2025  07:05 PM    <DIR>          .\n",
      "04/05/2025  07:04 PM    <DIR>          ..\n",
      "04/05/2025  07:05 PM                 0 json.ipynb\n",
      "04/05/2025  07:04 PM    <DIR>          sample_data\n",
      "               1 File(s)              0 bytes\n",
      "               3 Dir(s)  117,506,424,832 bytes free\n"
     ]
    }
   ],
   "source": [
    "%ls"
   ]
  },
  {
   "cell_type": "code",
   "execution_count": 25,
   "id": "15a5673b",
   "metadata": {},
   "outputs": [],
   "source": [
    "with open('./sample_data/example.json', 'r') as f:\n",
    "    dct = json.load(f)"
   ]
  },
  {
   "cell_type": "code",
   "execution_count": 26,
   "id": "9f90d583",
   "metadata": {},
   "outputs": [
    {
     "data": {
      "text/plain": [
       "{'main_text': \"Taylor Swift's 'Love Story' is such a timeless track — it beautifully captures the feeling of youthful, rebellious love with a modern fairy tale twist.\",\n",
       " 'comments': [{'name': 'Alex',\n",
       "   'response': 'I’ve loved this song since high school! It still hits the same years later.',\n",
       "   'replies': [{'name': 'Joe', 'text': 'I hate you.'}]},\n",
       "  {'name': 'Jamie',\n",
       "   'response': 'Honestly, the Romeo and Juliet reference is clever, but with a much happier ending.'},\n",
       "  {'name': 'Morgan',\n",
       "   'response': 'It’s wild how she was only a teenager when she wrote it. So much talent!'},\n",
       "  {'name': 'Taylor (not Swift!)',\n",
       "   'response': 'Every time I hear it, I’m back in 2008. Total nostalgia overload.'}]}"
      ]
     },
     "execution_count": 26,
     "metadata": {},
     "output_type": "execute_result"
    }
   ],
   "source": [
    "dct"
   ]
  },
  {
   "cell_type": "code",
   "execution_count": 27,
   "id": "43c5b3b7",
   "metadata": {},
   "outputs": [
    {
     "data": {
      "text/plain": [
       "\"Taylor Swift's 'Love Story' is such a timeless track — it beautifully captures the feeling of youthful, rebellious love with a modern fairy tale twist.\""
      ]
     },
     "execution_count": 27,
     "metadata": {},
     "output_type": "execute_result"
    }
   ],
   "source": [
    "dct['main_text']"
   ]
  },
  {
   "cell_type": "code",
   "execution_count": 28,
   "id": "c70f697b",
   "metadata": {},
   "outputs": [
    {
     "data": {
      "text/plain": [
       "4"
      ]
     },
     "execution_count": 28,
     "metadata": {},
     "output_type": "execute_result"
    }
   ],
   "source": [
    "len(dct['comments'])"
   ]
  },
  {
   "cell_type": "code",
   "execution_count": 30,
   "id": "dad0a0f2",
   "metadata": {},
   "outputs": [
    {
     "data": {
      "text/plain": [
       "[{'name': 'Joe', 'text': 'I hate you.'}]"
      ]
     },
     "execution_count": 30,
     "metadata": {},
     "output_type": "execute_result"
    }
   ],
   "source": [
    "dct['comments'][0]['replies']"
   ]
  },
  {
   "cell_type": "code",
   "execution_count": 24,
   "id": "95524667",
   "metadata": {},
   "outputs": [
    {
     "data": {
      "text/plain": [
       "{'main_text': \"Taylor Swift's 'Love Story' is such a timeless track — it beautifully captures the feeling of youthful, rebellious love with a modern fairy tale twist.\",\n",
       " 'comments': [{'name': 'Alex',\n",
       "   'response': 'I’ve loved this song since high school! It still hits the same years later.'},\n",
       "  {'name': 'Jamie',\n",
       "   'response': 'Honestly, the Romeo and Juliet reference is clever, but with a much happier ending.'},\n",
       "  {'name': 'Morgan',\n",
       "   'response': 'It’s wild how she was only a teenager when she wrote it. So much talent!'},\n",
       "  {'name': 'Taylor (not Swift!)',\n",
       "   'response': 'Every time I hear it, I’m back in 2008. Total nostalgia overload.'}]}"
      ]
     },
     "execution_count": 24,
     "metadata": {},
     "output_type": "execute_result"
    }
   ],
   "source": [
    "dct\n"
   ]
  },
  {
   "cell_type": "code",
   "execution_count": 31,
   "id": "e0003df4",
   "metadata": {},
   "outputs": [
    {
     "data": {
      "text/plain": [
       "{'main_text': \"Taylor Swift's 'Love Story' is such a timeless track — it beautifully captures the feeling of youthful, rebellious love with a modern fairy tale twist.\",\n",
       " 'comments': [{'name': 'Alex',\n",
       "   'response': 'I’ve loved this song since high school! It still hits the same years later.',\n",
       "   'replies': [{'name': 'Joe', 'text': 'I hate you.'}]},\n",
       "  {'name': 'Jamie',\n",
       "   'response': 'Honestly, the Romeo and Juliet reference is clever, but with a much happier ending.'},\n",
       "  {'name': 'Morgan',\n",
       "   'response': 'It’s wild how she was only a teenager when she wrote it. So much talent!'},\n",
       "  {'name': 'Taylor (not Swift!)',\n",
       "   'response': 'Every time I hear it, I’m back in 2008. Total nostalgia overload.'}]}"
      ]
     },
     "execution_count": 31,
     "metadata": {},
     "output_type": "execute_result"
    }
   ],
   "source": [
    "dct"
   ]
  },
  {
   "cell_type": "code",
   "execution_count": 33,
   "id": "533ed73e",
   "metadata": {},
   "outputs": [
    {
     "name": "stdout",
     "output_type": "stream",
     "text": [
      "I’ve loved this song since high school! It still hits the same years later.\n",
      "Honestly, the Romeo and Juliet reference is clever, but with a much happier ending.\n",
      "It’s wild how she was only a teenager when she wrote it. So much talent!\n",
      "Every time I hear it, I’m back in 2008. Total nostalgia overload.\n"
     ]
    }
   ],
   "source": [
    "for comment in dct['comments']:\n",
    "    print(comment['response'])"
   ]
  },
  {
   "cell_type": "code",
   "execution_count": 34,
   "id": "4483fcc5",
   "metadata": {},
   "outputs": [
    {
     "name": "stdout",
     "output_type": "stream",
     "text": [
      "WARNING:tensorflow:From c:\\Users\\erics\\anaconda3\\Lib\\site-packages\\keras\\src\\losses.py:2976: The name tf.losses.sparse_softmax_cross_entropy is deprecated. Please use tf.compat.v1.losses.sparse_softmax_cross_entropy instead.\n",
      "\n"
     ]
    },
    {
     "name": "stderr",
     "output_type": "stream",
     "text": [
      "c:\\Users\\erics\\anaconda3\\Lib\\site-packages\\transformers\\utils\\generic.py:260: UserWarning: torch.utils._pytree._register_pytree_node is deprecated. Please use torch.utils._pytree.register_pytree_node instead.\n",
      "  torch.utils._pytree._register_pytree_node(\n",
      "No model was supplied, defaulted to distilbert-base-uncased-finetuned-sst-2-english and revision af0f99b (https://huggingface.co/distilbert-base-uncased-finetuned-sst-2-english).\n",
      "Using a pipeline without specifying a model name and revision in production is not recommended.\n"
     ]
    },
    {
     "data": {
      "application/vnd.jupyter.widget-view+json": {
       "model_id": "8ce93dae110f484a8be517560052cfa3",
       "version_major": 2,
       "version_minor": 0
      },
      "text/plain": [
       "Downloading config.json:   0%|          | 0.00/629 [00:00<?, ?B/s]"
      ]
     },
     "metadata": {},
     "output_type": "display_data"
    },
    {
     "name": "stderr",
     "output_type": "stream",
     "text": [
      "c:\\Users\\erics\\anaconda3\\Lib\\site-packages\\huggingface_hub\\file_download.py:133: UserWarning: `huggingface_hub` cache-system uses symlinks by default to efficiently store duplicated files but your machine does not support them in C:\\Users\\erics\\.cache\\huggingface\\hub. Caching files will still work but in a degraded version that might require more space on your disk. This warning can be disabled by setting the `HF_HUB_DISABLE_SYMLINKS_WARNING` environment variable. For more details, see https://huggingface.co/docs/huggingface_hub/how-to-cache#limitations.\n",
      "To support symlinks on Windows, you either need to activate Developer Mode or to run Python as an administrator. In order to see activate developer mode, see this article: https://docs.microsoft.com/en-us/windows/apps/get-started/enable-your-device-for-development\n",
      "  warnings.warn(message)\n"
     ]
    },
    {
     "data": {
      "application/vnd.jupyter.widget-view+json": {
       "model_id": "732dd5062db0470080cd19c13f32be42",
       "version_major": 2,
       "version_minor": 0
      },
      "text/plain": [
       "Downloading model.safetensors:   0%|          | 0.00/268M [00:00<?, ?B/s]"
      ]
     },
     "metadata": {},
     "output_type": "display_data"
    },
    {
     "data": {
      "application/vnd.jupyter.widget-view+json": {
       "model_id": "28180a5fdbcf408eb0fb1e0bfb246217",
       "version_major": 2,
       "version_minor": 0
      },
      "text/plain": [
       "Downloading tokenizer_config.json:   0%|          | 0.00/48.0 [00:00<?, ?B/s]"
      ]
     },
     "metadata": {},
     "output_type": "display_data"
    },
    {
     "data": {
      "application/vnd.jupyter.widget-view+json": {
       "model_id": "54200d9ea7d54696bbadc6d7c302962a",
       "version_major": 2,
       "version_minor": 0
      },
      "text/plain": [
       "Downloading vocab.txt:   0%|          | 0.00/232k [00:00<?, ?B/s]"
      ]
     },
     "metadata": {},
     "output_type": "display_data"
    },
    {
     "name": "stdout",
     "output_type": "stream",
     "text": [
      "[{'label': 'POSITIVE', 'score': 0.9998738765716553}]\n"
     ]
    }
   ],
   "source": [
    "from transformers import pipeline\n",
    "\n",
    "# Load a pre-trained sentiment analysis pipeline\n",
    "sentiment_pipeline = pipeline(\"sentiment-analysis\")\n",
    "\n",
    "# Analyze some text\n",
    "result = sentiment_pipeline(\"I absolutely loved Taylor Swift's new album!\")\n",
    "print(result)\n"
   ]
  },
  {
   "cell_type": "code",
   "execution_count": 35,
   "id": "71e5b1c2",
   "metadata": {},
   "outputs": [],
   "source": [
    "with open('./sample_data/example.json') as f:\n",
    "    new_dct = json.load(f)"
   ]
  },
  {
   "cell_type": "code",
   "execution_count": 36,
   "id": "89ed3fc2",
   "metadata": {},
   "outputs": [
    {
     "data": {
      "text/plain": [
       "{'main_text': 'Taylor Swift continues to be one of the most polarizing artists of our time. Some call her a lyrical genius, others... not so much.',\n",
       " 'comments': [{'name': 'SwiftieQueen99',\n",
       "   'response': 'She’s literally the best songwriter of our generation. Period.',\n",
       "   'replies': [{'name': 'AntiPopStan',\n",
       "     'text': 'More like the most overrated. Her lyrics are just high school poetry.',\n",
       "     'replies': [{'name': 'LyricLover27',\n",
       "       'text': \"You clearly haven't listened to *All Too Well (10 Minute Version)*.\"},\n",
       "      {'name': 'NoChillSwiftie',\n",
       "       'text': 'Go back to your metal cave and leave us in peace.'}]}]},\n",
       "  {'name': 'MelodyManiac',\n",
       "   'response': 'Whether you like her or not, her ability to reinvent herself is impressive.',\n",
       "   'replies': [{'name': 'Hater420',\n",
       "     'text': 'Or maybe it’s just marketing gimmicks lol.',\n",
       "     'replies': [{'name': 'DefenderOfPop',\n",
       "       'text': 'Tell me you don’t understand artistic evolution without telling me.'}]}]},\n",
       "  {'name': 'NotImpressed',\n",
       "   'response': 'Y’all really acting like she invented music. Calm down.',\n",
       "   'replies': [{'name': 'RedEraRider',\n",
       "     'text': 'Nobody said that. We’re just vibing, let us live.',\n",
       "     'replies': [{'name': 'NotImpressed',\n",
       "       'text': 'Vibe somewhere else. My feed is full of Swift right now.'},\n",
       "      {'name': 'SwiftieDefenseSquad',\n",
       "       'text': \"Your feed is full of Swift because she's relevant and you're obsessed. 😘\"}]}]},\n",
       "  {'name': 'NeutralNancy',\n",
       "   'response': 'I don’t love her or hate her, but you all need to chill 😂'}]}"
      ]
     },
     "execution_count": 36,
     "metadata": {},
     "output_type": "execute_result"
    }
   ],
   "source": [
    "new_dct"
   ]
  },
  {
   "cell_type": "code",
   "execution_count": 39,
   "id": "910bade2",
   "metadata": {},
   "outputs": [
    {
     "name": "stdout",
     "output_type": "stream",
     "text": [
      "She’s literally the best songwriter of our generation. Period.\n",
      "[{'label': 'POSITIVE', 'score': 0.9998632669448853}]\n",
      "====\n",
      "Whether you like her or not, her ability to reinvent herself is impressive.\n",
      "[{'label': 'POSITIVE', 'score': 0.9998297691345215}]\n",
      "====\n",
      "Y’all really acting like she invented music. Calm down.\n",
      "[{'label': 'NEGATIVE', 'score': 0.9880316257476807}]\n",
      "====\n",
      "I don’t love her or hate her, but you all need to chill 😂\n",
      "[{'label': 'POSITIVE', 'score': 0.5654948949813843}]\n",
      "====\n"
     ]
    }
   ],
   "source": [
    "for comment in new_dct['comments']:\n",
    "    print(comment['response'])\n",
    "    print(sentiment_pipeline(comment['response']))\n",
    "    print(\"====\")"
   ]
  },
  {
   "cell_type": "code",
   "execution_count": null,
   "id": "5566316c",
   "metadata": {},
   "outputs": [],
   "source": []
  }
 ],
 "metadata": {
  "kernelspec": {
   "display_name": "base",
   "language": "python",
   "name": "python3"
  },
  "language_info": {
   "codemirror_mode": {
    "name": "ipython",
    "version": 3
   },
   "file_extension": ".py",
   "mimetype": "text/x-python",
   "name": "python",
   "nbconvert_exporter": "python",
   "pygments_lexer": "ipython3",
   "version": "3.11.5"
  }
 },
 "nbformat": 4,
 "nbformat_minor": 5
}
