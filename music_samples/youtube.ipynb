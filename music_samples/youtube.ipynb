{
 "cells": [
  {
   "cell_type": "markdown",
   "id": "a14fba31",
   "metadata": {},
   "source": [
    "### Constructing YouTube Links"
   ]
  },
  {
   "cell_type": "code",
   "execution_count": 1,
   "id": "992f78bd",
   "metadata": {},
   "outputs": [],
   "source": [
    "import pandas as pd"
   ]
  },
  {
   "cell_type": "code",
   "execution_count": 2,
   "id": "38ca0b7f",
   "metadata": {},
   "outputs": [],
   "source": [
    "df = pd.read_csv('./data/musiccaps-public.csv')"
   ]
  },
  {
   "cell_type": "code",
   "execution_count": 4,
   "id": "a49987c5",
   "metadata": {},
   "outputs": [
    {
     "data": {
      "text/html": [
       "<div>\n",
       "<style scoped>\n",
       "    .dataframe tbody tr th:only-of-type {\n",
       "        vertical-align: middle;\n",
       "    }\n",
       "\n",
       "    .dataframe tbody tr th {\n",
       "        vertical-align: top;\n",
       "    }\n",
       "\n",
       "    .dataframe thead th {\n",
       "        text-align: right;\n",
       "    }\n",
       "</style>\n",
       "<table border=\"1\" class=\"dataframe\">\n",
       "  <thead>\n",
       "    <tr style=\"text-align: right;\">\n",
       "      <th></th>\n",
       "      <th>ytid</th>\n",
       "      <th>start_s</th>\n",
       "      <th>end_s</th>\n",
       "      <th>audioset_positive_labels</th>\n",
       "      <th>aspect_list</th>\n",
       "      <th>caption</th>\n",
       "      <th>author_id</th>\n",
       "      <th>is_balanced_subset</th>\n",
       "      <th>is_audioset_eval</th>\n",
       "    </tr>\n",
       "  </thead>\n",
       "  <tbody>\n",
       "    <tr>\n",
       "      <th>0</th>\n",
       "      <td>-0Gj8-vB1q4</td>\n",
       "      <td>30</td>\n",
       "      <td>40</td>\n",
       "      <td>/m/0140xf,/m/02cjck,/m/04rlf</td>\n",
       "      <td>['low quality', 'sustained strings melody', 's...</td>\n",
       "      <td>The low quality recording features a ballad so...</td>\n",
       "      <td>4</td>\n",
       "      <td>False</td>\n",
       "      <td>True</td>\n",
       "    </tr>\n",
       "  </tbody>\n",
       "</table>\n",
       "</div>"
      ],
      "text/plain": [
       "          ytid  start_s  end_s      audioset_positive_labels  \\\n",
       "0  -0Gj8-vB1q4       30     40  /m/0140xf,/m/02cjck,/m/04rlf   \n",
       "\n",
       "                                         aspect_list  \\\n",
       "0  ['low quality', 'sustained strings melody', 's...   \n",
       "\n",
       "                                             caption  author_id  \\\n",
       "0  The low quality recording features a ballad so...          4   \n",
       "\n",
       "   is_balanced_subset  is_audioset_eval  \n",
       "0               False              True  "
      ]
     },
     "execution_count": 4,
     "metadata": {},
     "output_type": "execute_result"
    }
   ],
   "source": [
    "df.head(1)"
   ]
  },
  {
   "cell_type": "code",
   "execution_count": 9,
   "id": "46acb0db",
   "metadata": {},
   "outputs": [
    {
     "name": "stdout",
     "output_type": "stream",
     "text": [
      "ytid                                                              -0Gj8-vB1q4\n",
      "start_s                                                                    30\n",
      "end_s                                                                      40\n",
      "audioset_positive_labels                         /m/0140xf,/m/02cjck,/m/04rlf\n",
      "aspect_list                 ['low quality', 'sustained strings melody', 's...\n",
      "caption                     The low quality recording features a ballad so...\n",
      "author_id                                                                   4\n",
      "is_balanced_subset                                                      False\n",
      "is_audioset_eval                                                         True\n",
      "Name: 0, dtype: object\n"
     ]
    }
   ],
   "source": [
    "for row in df.iterrows():\n",
    "    print(row[1])\n",
    "    break"
   ]
  },
  {
   "cell_type": "code",
   "execution_count": 10,
   "id": "ff9d3206",
   "metadata": {},
   "outputs": [],
   "source": [
    "link_base = \"https://www.youtube.com/watch?v=\""
   ]
  },
  {
   "cell_type": "code",
   "execution_count": 27,
   "id": "8e6cee7e",
   "metadata": {},
   "outputs": [
    {
     "name": "stdout",
     "output_type": "stream",
     "text": [
      "[youtube] Extracting URL: https://www.youtube.com/watch?v=-0Gj8-vB1q4\n",
      "[youtube] -0Gj8-vB1q4: Downloading webpage\n",
      "[youtube] -0Gj8-vB1q4: Downloading tv client config\n",
      "[youtube] -0Gj8-vB1q4: Downloading player 73381ccc-main\n",
      "[youtube] -0Gj8-vB1q4: Downloading tv player API JSON\n",
      "[youtube] -0Gj8-vB1q4: Downloading ios player API JSON\n",
      "[youtube] -0Gj8-vB1q4: Downloading m3u8 information\n",
      "[info] -0Gj8-vB1q4: Downloading 1 format(s): 251\n",
      "[download] Destination: audio\\audio_0.webm\n",
      "\n",
      "[download]   0.0% of    3.79MiB at  997.69KiB/s ETA 00:03\n",
      "[download]   0.1% of    3.79MiB at    1.46MiB/s ETA 00:02\n",
      "[download]   0.2% of    3.79MiB at    3.42MiB/s ETA 00:01\n",
      "[download]   0.4% of    3.79MiB at    7.32MiB/s ETA 00:00\n",
      "[download]   0.8% of    3.79MiB at    4.12MiB/s ETA 00:00\n",
      "[download]   1.6% of    3.79MiB at    4.84MiB/s ETA 00:00\n",
      "[download]   3.3% of    3.79MiB at    6.69MiB/s ETA 00:00\n",
      "[download]   6.6% of    3.79MiB at    8.94MiB/s ETA 00:00\n",
      "[download]  13.2% of    3.79MiB at   12.42MiB/s ETA 00:00\n",
      "[download]  26.4% of    3.79MiB at   15.97MiB/s ETA 00:00\n",
      "[download]  52.7% of    3.79MiB at   18.32MiB/s ETA 00:00\n",
      "[download] 100.0% of    3.79MiB at   18.81MiB/s ETA 00:00\n",
      "[download] 100% of    3.79MiB in 00:00:00 at 11.55MiB/s  \n"
     ]
    },
    {
     "name": "stderr",
     "output_type": "stream",
     "text": [
      "WARNING: Post-Processor arguments given without specifying name. The arguments will be given to all post-processors\n",
      "ERROR: Postprocessing: ffprobe and ffmpeg not found. Please install or provide the path using --ffmpeg-location\n"
     ]
    }
   ],
   "source": [
    "for row in df.iterrows():\n",
    "    final_link = link_base + row[1][0]\n",
    "    start_time = row[1][1]\n",
    "    end_time = row[1][2]\n",
    "    loc = f'./audio/audio_{row[0]}.mp3'\n",
    "    !yt-dlp --extract-audio --audio-format mp3 --postprocessor-args \"-ss {start_time} -to {end_time}\" -o \"{loc}\" {final_link}\n",
    "    break"
   ]
  },
  {
   "cell_type": "code",
   "execution_count": null,
   "id": "3ac9d039",
   "metadata": {},
   "outputs": [],
   "source": [
    "# Define variables\n",
    "start_time = \"00:01:30\"\n",
    "end_time = \"00:02:00\"\n",
    "video_url = \"https://www.youtube.com/watch?v=dQw4w9WgXcQ\"\n",
    "output_location = \"/path/to/output/folder/%(title)s.%(ext)s\"  # Specify your desired output folder\n",
    "\n",
    "# Use the variables in the shell command\n",
    "!yt-dlp --extract-audio --audio-format mp3 --postprocessor-args \"-ss {start_time} -to {end_time}\" -o \"{output_location}\" {video_url}\n"
   ]
  },
  {
   "cell_type": "code",
   "execution_count": null,
   "id": "3ad8de8f",
   "metadata": {},
   "outputs": [
    {
     "name": "stdout",
     "output_type": "stream",
     "text": [
      "[youtube] Extracting URL: https://www.youtube.com/watch?v=-0Gj8-vB1q4\n",
      "[youtube] -0Gj8-vB1q4: Downloading webpage\n",
      "[youtube] -0Gj8-vB1q4: Downloading tv client config\n",
      "[youtube] -0Gj8-vB1q4: Downloading player 73381ccc-main\n",
      "[youtube] -0Gj8-vB1q4: Downloading tv player API JSON\n",
      "[youtube] -0Gj8-vB1q4: Downloading ios player API JSON\n",
      "[youtube] -0Gj8-vB1q4: Downloading m3u8 information\n",
      "[info] -0Gj8-vB1q4: Downloading 1 format(s): 251\n",
      "[download] Destination: audio.test\n",
      "\n",
      "[download]   0.0% of    3.79MiB at  999.83KiB/s ETA 00:03\n",
      "[download]   0.1% of    3.79MiB at    1.46MiB/s ETA 00:02\n",
      "[download]   0.2% of    3.79MiB at    3.42MiB/s ETA 00:01\n",
      "[download]   0.4% of    3.79MiB at    5.85MiB/s ETA 00:00\n",
      "[download]   0.8% of    3.79MiB at    8.63MiB/s ETA 00:00\n",
      "[download]   1.6% of    3.79MiB at    8.19MiB/s ETA 00:00\n",
      "[download]   3.3% of    3.79MiB at    9.53MiB/s ETA 00:00\n",
      "[download]   6.6% of    3.79MiB at   13.09MiB/s ETA 00:00\n",
      "[download]  13.2% of    3.79MiB at   15.04MiB/s ETA 00:00\n",
      "[download]  26.4% of    3.79MiB at   17.45MiB/s ETA 00:00\n",
      "[download]  52.7% of    3.79MiB at   18.36MiB/s ETA 00:00\n",
      "[download] 100.0% of    3.79MiB at   19.19MiB/s ETA 00:00\n",
      "[download] 100% of    3.79MiB in 00:00:00 at 16.53MiB/s  \n"
     ]
    },
    {
     "name": "stderr",
     "output_type": "stream",
     "text": [
      "WARNING: Post-Processor arguments given without specifying name. The arguments will be given to all post-processors\n",
      "ERROR: Postprocessing: ffprobe and ffmpeg not found. Please install or provide the path using --ffmpeg-location\n"
     ]
    }
   ],
   "source": [
    "!yt-dlp --extract-audio --audio-format mp3 --postprocessor-args \"-ss 30 -to 40\" -o \"./audio/test\" https://www.youtube.com/watch?v=-0Gj8-vB1q4"
   ]
  },
  {
   "cell_type": "code",
   "execution_count": null,
   "id": "265727ef",
   "metadata": {},
   "outputs": [],
   "source": []
  }
 ],
 "metadata": {
  "kernelspec": {
   "display_name": "base",
   "language": "python",
   "name": "python3"
  },
  "language_info": {
   "codemirror_mode": {
    "name": "ipython",
    "version": 3
   },
   "file_extension": ".py",
   "mimetype": "text/x-python",
   "name": "python",
   "nbconvert_exporter": "python",
   "pygments_lexer": "ipython3",
   "version": "3.11.5"
  }
 },
 "nbformat": 4,
 "nbformat_minor": 5
}
